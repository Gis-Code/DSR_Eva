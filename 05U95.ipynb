{
 "cells": [
  {
   "cell_type": "code",
   "id": "initial_id",
   "metadata": {
    "collapsed": true,
    "ExecuteTime": {
     "end_time": "2025-07-29T01:26:00.717306Z",
     "start_time": "2025-07-29T01:26:00.704795Z"
    }
   },
   "source": [
    "import pandas as pd\n",
    "import numpy as np\n",
    "import matplotlib.pyplot as plt\n",
    "\n",
    "\n",
    "from scipy import stats\n",
    "from scipy.stats import pearsonr\n",
    "from statistics import mean\n",
    "from sklearn.metrics import root_mean_squared_error\n",
    "from tqdm import tqdm\n",
    "\n",
    "# plt.rcParams['figure.dpi'] = 200\n",
    "plt.rcParams['font.family'] = \"Arial\""
   ],
   "outputs": [],
   "execution_count": 16
  },
  {
   "metadata": {},
   "cell_type": "markdown",
   "source": "### 定义函数",
   "id": "a409dd71c2cb941"
  },
  {
   "metadata": {
    "ExecuteTime": {
     "end_time": "2025-07-29T02:14:46.679174Z",
     "start_time": "2025-07-29T02:14:46.664153Z"
    }
   },
   "cell_type": "code",
   "source": [
    "def calculate_U95(y_true, y_pred):\n",
    "    \"\"\"\n",
    "    计算预测值和真实值之间的相关系数（R）、平均偏差误差（MBE）、\n",
    "    百分比平均偏差误差（%MBE）、均方根误差（RMSE）和百分比均方根误差（%RMSE）。\n",
    "\n",
    "    参数:\n",
    "    y_true: np.array, 真实值\n",
    "    y_pred: np.array, 预测值\n",
    "\n",
    "    返回:\n",
    "    dict: 包含R, MBE, %MBE, RMSE, %RMSE的字典\n",
    "    \"\"\"\n",
    "    Uo = 5\n",
    "    y_true = np.array(y_true)\n",
    "    y_pred = np.array(y_pred)\n",
    "\n",
    "    # 相关系数 R\n",
    "    R, _ = pearsonr(y_true, y_pred)\n",
    "    # 计算误差\n",
    "    error = y_pred - y_true\n",
    "    # 平均偏差误差（MBE）\n",
    "    MBE = np.mean(error)\n",
    "    # 百分比平均偏差误差（%MBE）\n",
    "    MBE_percent = (MBE / np.mean(y_true)) * 100\n",
    "    # 均方根误差（RMSE）\n",
    "    RMSE = root_mean_squared_error(y_true, y_pred)\n",
    "    # 百分比均方根误差（%RMSE）\n",
    "    RMSE_percent = (RMSE / np.sqrt(np.mean(y_true**2))) * 100\n",
    "    # U95\n",
    "    U95 = np.sqrt(Uo**2 + MBE_percent**2 + RMSE_percent**2)\n",
    "\n",
    "    # return {\n",
    "    #     \"R\": R,\n",
    "    #     \"MBE\": MBE,\n",
    "    #     \"%MBE\": MBE_percent,\n",
    "    #     \"RMSE\": RMSE,\n",
    "    #     \"%RMSE\": RMSE_percent,\n",
    "    #     \"U95\": U95\n",
    "    # }\n",
    "\n",
    "    return U95\n",
    "    # return RMSE_percent**2\n",
    "\n",
    "# 示例使用\n",
    "y_true = [3, 5, 2.5, 7, 4.5]\n",
    "# y_pred = [6, 7, 3, 8, 5]\n",
    "y_pred = [5, 5, 2.5, 7, 4.5]\n",
    "# 转为df\n",
    "df = pd.DataFrame({'y_true': y_true, 'y_pred': y_pred})\n",
    "\n",
    "metrics = calculate_U95(y_true, y_pred)\n",
    "# print(metrics['R'])\n",
    "def calculate_error(observation, model):\n",
    "    valid_mask = ~np.isnan(observation) & ~np.isnan(model)\n",
    "    valid_obs = observation[valid_mask]\n",
    "    valid_mod = model[valid_mask]\n",
    "\n",
    "    metrics = calculate_U95(valid_obs, valid_mod)\n",
    "\n",
    "    return metrics\n",
    "calculate_error(df['y_true'], df['y_pred'])"
   ],
   "id": "9f8b06efc24a3d64",
   "outputs": [
    {
     "data": {
      "text/plain": [
       "365.2968036529681"
      ]
     },
     "execution_count": 53,
     "metadata": {},
     "output_type": "execute_result"
    }
   ],
   "execution_count": 53
  },
  {
   "metadata": {},
   "cell_type": "markdown",
   "source": "### 将数据按日数据、月均数据、年均数据分组",
   "id": "80dfc2c7df61fbb8"
  },
  {
   "metadata": {
    "ExecuteTime": {
     "end_time": "2025-07-29T02:14:56.131750Z",
     "start_time": "2025-07-29T02:14:48.842347Z"
    }
   },
   "cell_type": "code",
   "source": [
    "# 读取数据库\n",
    "database = pd.read_feather(r'D:\\PhD\\data\\station_feather\\station_data_all_v3.feather').rename(columns={'daily_radiation':'Observation'})\n",
    "models_name = ['ISCCP-ITP', 'GLASS', 'ERA5', 'MERRA-2', 'SSP245', 'SSP585']\n",
    "\n",
    "# 逐日数据\n",
    "database_ISCCP_d  = database[~database['ISCCP-ITP'].isna()][['date', 'Observation','ISCCP-ITP']].rename(columns={'ISCCP-ITP':'Model'}).reset_index(drop=True)\n",
    "database_GLASS_d  = database[~database['GLASS'].isna()][['date', 'Observation','GLASS']].rename(columns={'GLASS':'Model'}).reset_index(drop=True)\n",
    "database_ERA5_d  = database[~database['ERA5'].isna()][['date', 'Observation','ERA5']].rename(columns={'ERA5':'Model'}).reset_index(drop=True)\n",
    "database_MERRA2_d = database[['date', 'Observation','MERRA2']].rename(columns={'MERRA2':'Model'}).reset_index(drop=True)\n",
    "database_SSP245_d = database[~database['SSP245'].isna()][['date', 'Observation','SSP245']].rename(columns={'SSP245':'Model'}).reset_index(drop=True)\n",
    "database_SSP585_d = database[~database['SSP585'].isna()][['date', 'Observation','SSP585']].rename(columns={'SSP585':'Model'}).reset_index(drop=True)\n",
    "# del database\n",
    "\n",
    "# 月平均数据\n",
    "def calculate_monthly_mean(dataframe):\n",
    "    dataframe_tmp = dataframe.copy()\n",
    "    # 提取年份和月份\n",
    "    dataframe_tmp['year'] = dataframe_tmp['date'].apply(lambda x: x.year)\n",
    "    dataframe_tmp['month'] = dataframe_tmp['date'].apply(lambda x: x.month)\n",
    "    # 移除日期列\n",
    "    dataframe_tmp.drop(columns=['date'], inplace=True)\n",
    "    # 计算每个月的平均值\n",
    "    monthly_mean = dataframe_tmp.groupby(['year', 'month']).mean().reset_index()\n",
    "    return monthly_mean\n",
    "\n",
    "    # \"\"\"计算稳健的月平均，处理缺失值和日期边界\"\"\"\n",
    "    # df = dataframe.copy()\n",
    "    # # 确保日期为datetime类型并设为索引\n",
    "    # df['date'] = pd.to_datetime(df['date'])\n",
    "    # df.set_index('date', inplace=True)\n",
    "    # # 按月重采样，要求至少25天有效数据\n",
    "    # monthly = df.resample('MS').apply(lambda x: x.mean() if len(x) >= 25 else None)\n",
    "    # # 添加年月列\n",
    "    # monthly['year'] = monthly.index.year\n",
    "    # monthly['month'] = monthly.index.month\n",
    "    # return monthly.reset_index()\n",
    "\n",
    "database_ISCCP_m = calculate_monthly_mean(database_ISCCP_d)\n",
    "database_GLASS_m = calculate_monthly_mean(database_GLASS_d)\n",
    "database_ERA5_m = calculate_monthly_mean(database_ERA5_d)\n",
    "database_MERRA2_m = calculate_monthly_mean(database_MERRA2_d)\n",
    "database_SSP245_m = calculate_monthly_mean(database_SSP245_d)\n",
    "database_SSP585_m = calculate_monthly_mean(database_SSP585_d)\n",
    "\n",
    "# 年平均数据\n",
    "def calculate_annual_mean(dataframe):\n",
    "    dataframe_tmp = dataframe.copy()\n",
    "    # 提取年份\n",
    "    dataframe_tmp['year'] = dataframe_tmp['date'].apply(lambda x: x.year)\n",
    "    # 移除日期列\n",
    "    dataframe_tmp.drop(columns=['date'], inplace=True)\n",
    "    # 计算每个月的平均值\n",
    "    yearly_mean = dataframe_tmp.groupby('year').mean().reset_index()\n",
    "    return yearly_mean\n",
    "\n",
    "    # df = dataframe.copy()\n",
    "    # df['date'] = pd.to_datetime((df['date']))\n",
    "    # df.set_index('date', inplace=True)\n",
    "    # yearly = df.resample('AS').apply(lambda x: x.mean() if len(x) >= 300 else None)\n",
    "    # yearly['year'] = yearly.index.year\n",
    "    # return yearly.reset_index()\n",
    "\n",
    "database_ISCCP_y = calculate_annual_mean(database_ISCCP_d)\n",
    "database_GLASS_y = calculate_annual_mean(database_GLASS_d)\n",
    "database_ERA5_y = calculate_annual_mean(database_ERA5_d)\n",
    "database_MERRA2_y = calculate_annual_mean(database_MERRA2_d)\n",
    "database_SSP245_y = calculate_annual_mean(database_SSP245_d)\n",
    "database_SSP585_y = calculate_annual_mean(database_SSP585_d)"
   ],
   "id": "6b3a9d556e89869c",
   "outputs": [],
   "execution_count": 54
  },
  {
   "metadata": {},
   "cell_type": "markdown",
   "source": "### 计算各时间尺度下U95",
   "id": "3dc06a68eebe3935"
  },
  {
   "metadata": {
    "ExecuteTime": {
     "end_time": "2025-07-29T02:14:57.627923Z",
     "start_time": "2025-07-29T02:14:57.221742Z"
    }
   },
   "cell_type": "code",
   "source": [
    "models_d = [database_ISCCP_d, database_GLASS_d, database_ERA5_d, database_MERRA2_d, database_SSP245_d, database_SSP585_d]\n",
    "models_m = [database_ISCCP_m, database_GLASS_m, database_ERA5_m, database_MERRA2_m, database_SSP245_m, database_SSP585_m]\n",
    "models_y = [database_ISCCP_y, database_GLASS_y, database_ERA5_y, database_MERRA2_y, database_SSP245_y, database_SSP585_y]\n",
    "\n",
    "# 计算评价指标\n",
    "# 按尺度分组\n",
    "U95_list_d = []\n",
    "U95_list_m = []\n",
    "U95_list_y = []\n",
    "for model in models_d:\n",
    "    U95 = calculate_error(model['Observation'], model['Model'])\n",
    "    U95_list_d.append(U95)\n",
    "for model in models_m:\n",
    "    U95 = calculate_error(model['Observation'], model['Model'])\n",
    "    U95_list_m.append(U95)\n",
    "for model in models_y:\n",
    "    U95 = calculate_error(model['Observation'], model['Model'])\n",
    "    U95_list_y.append(U95)\n",
    "# 按模型分组\n",
    "U95_ISCCP = []\n",
    "U95_GLASS = []\n",
    "U95_ERA5 = []\n",
    "U95_MERRA2 = []\n",
    "U95_SSP245 = []\n",
    "U95_SSP585 = []\n",
    "# 使用列表推导式和zip函数优化代码\n",
    "new_lists = [U95_ISCCP, U95_GLASS, U95_ERA5, U95_MERRA2, U95_SSP245, U95_SSP585]\n",
    "for lst, d, m, y in zip(new_lists, U95_list_d, U95_list_m, U95_list_y):\n",
    "    lst.extend([d, m, y])"
   ],
   "id": "53dd81608abf95f7",
   "outputs": [],
   "execution_count": 55
  },
  {
   "metadata": {
    "ExecuteTime": {
     "end_time": "2025-07-29T01:27:49.491771Z",
     "start_time": "2025-07-29T01:27:49.480260Z"
    }
   },
   "cell_type": "code",
   "source": "temp = pd.DataFrame(new_lists)",
   "id": "b8ee97b1ea4f595",
   "outputs": [],
   "execution_count": 25
  },
  {
   "metadata": {},
   "cell_type": "markdown",
   "source": "### 绘制05各时间尺度下U95条形图",
   "id": "8e304d46a7d97f13"
  },
  {
   "metadata": {
    "ExecuteTime": {
     "end_time": "2025-07-29T02:15:00.487264Z",
     "start_time": "2025-07-29T02:15:00.320755Z"
    }
   },
   "cell_type": "code",
   "source": [
    "# 设置条形图的宽度和位置\n",
    "bar_width = 0.25\n",
    "index = np.arange(len(models_name))\n",
    "\n",
    "\n",
    "# 绘制条形图\n",
    "daily_bars = plt.bar(index, U95_list_d, bar_width, label='Daily', color=\"#d6707f\")\n",
    "monthly_bars = plt.bar(index + bar_width, U95_list_m, bar_width, label='Monthly', color=\"#eeb2b3\")\n",
    "annually_bars = plt.bar(index + 2 * bar_width, U95_list_y, bar_width, label='Annually', color=\"#ffe4e4\")\n",
    "# 添加5%水平线\n",
    "uncertainty_line = plt.axhline(y=5, color='grey', alpha=.5, linestyle='--', label='Uncertainty of observation')\n",
    "\n",
    "# 添加图例、标题和标签\n",
    "plt.xlabel('Productions')\n",
    "plt.ylabel(r'$|U_{95}|$ (%)')\n",
    "plt.xticks(index + bar_width, models_name)\n",
    "# 调整图例顺序\n",
    "plt.legend(handles=[daily_bars, monthly_bars, annually_bars, uncertainty_line],frameon=False)\n",
    "\n",
    "# 显示图形\n",
    "plt.tight_layout()\n",
    "plt.show()"
   ],
   "id": "d63801edc2db84be",
   "outputs": [
    {
     "data": {
      "text/plain": [
       "<Figure size 640x480 with 1 Axes>"
      ],
      "image/png": "[encoded data removed]"
     },
     "metadata": {},
     "output_type": "display_data"
    }
   ],
   "execution_count": 56
  },
  {
   "metadata": {},
   "cell_type": "code",
   "outputs": [],
   "execution_count": null,
   "source": "",
   "id": "9154bae15942dbed"
  }
 ],
 "metadata": {
  "kernelspec": {
   "display_name": "Python 3",
   "language": "python",
   "name": "python3"
  },
  "language_info": {
   "codemirror_mode": {
    "name": "ipython",
    "version": 2
   },
   "file_extension": ".py",
   "mimetype": "text/x-python",
   "name": "python",
   "nbconvert_exporter": "python",
   "pygments_lexer": "ipython2",
   "version": "2.7.6"
  }
 },
 "nbformat": 4,
 "nbformat_minor": 5
}
